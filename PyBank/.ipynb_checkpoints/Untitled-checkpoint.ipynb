{
 "cells": [
  {
   "cell_type": "code",
   "execution_count": 2,
   "id": "d16e69bd",
   "metadata": {},
   "outputs": [
    {
     "ename": "FileNotFoundError",
     "evalue": "[Errno 2] No such file or directory: 'budget_data.csv'",
     "output_type": "error",
     "traceback": [
      "\u001b[1;31m---------------------------------------------------------------------------\u001b[0m",
      "\u001b[1;31mFileNotFoundError\u001b[0m                         Traceback (most recent call last)",
      "\u001b[1;32m~\\AppData\\Local\\Temp\\ipykernel_2756\\2903048894.py\u001b[0m in \u001b[0;36m<module>\u001b[1;34m\u001b[0m\n\u001b[0;32m      9\u001b[0m \u001b[1;33m\u001b[0m\u001b[0m\n\u001b[0;32m     10\u001b[0m \u001b[1;31m# Open the CSV file\u001b[0m\u001b[1;33m\u001b[0m\u001b[1;33m\u001b[0m\u001b[0m\n\u001b[1;32m---> 11\u001b[1;33m \u001b[1;32mwith\u001b[0m \u001b[0mopen\u001b[0m\u001b[1;33m(\u001b[0m\u001b[1;34m\"budget_data.csv\"\u001b[0m\u001b[1;33m)\u001b[0m \u001b[1;32mas\u001b[0m \u001b[0mcsvfile\u001b[0m\u001b[1;33m:\u001b[0m\u001b[1;33m\u001b[0m\u001b[1;33m\u001b[0m\u001b[0m\n\u001b[0m\u001b[0;32m     12\u001b[0m     \u001b[0mcsvreader\u001b[0m \u001b[1;33m=\u001b[0m \u001b[0mcsv\u001b[0m\u001b[1;33m.\u001b[0m\u001b[0mreader\u001b[0m\u001b[1;33m(\u001b[0m\u001b[0mcsvfile\u001b[0m\u001b[1;33m)\u001b[0m\u001b[1;33m\u001b[0m\u001b[1;33m\u001b[0m\u001b[0m\n\u001b[0;32m     13\u001b[0m \u001b[1;33m\u001b[0m\u001b[0m\n",
      "\u001b[1;31mFileNotFoundError\u001b[0m: [Errno 2] No such file or directory: 'budget_data.csv'"
     ]
    }
   ],
   "source": [
    "import csv\n",
    "open (\"budget_data.csv\") as csvfile\n",
    "print(\"bidget\")"
   ]
  },
  {
   "cell_type": "code",
   "execution_count": null,
   "id": "9063ca65",
   "metadata": {},
   "outputs": [],
   "source": [
    "import csv\n",
    "\n",
    "# Initialize variables\n",
    "months = 0\n",
    "net_profit = 0\n",
    "profit_changes = []\n",
    "greatest_increase = [\"\", 0]\n",
    "greatest_decrease = [\"\", 0]\n",
    "\n",
    "# Open the CSV file\n",
    "with open(\"budget_data.csv\") as csvfile:\n",
    "    csvreader = csv.reader(csvfile)\n",
    "    \n",
    "    # Skip the header row\n",
    "    next(csvreader)\n",
    "\n",
    "    # Iterate through the rows in the CSV\n",
    "    for row in csvreader:\n",
    "        # Increment the number of months\n",
    "        months += 1\n",
    "        \n",
    "        # Add the profit/loss to the net profit\n",
    "        net_profit += int(row[1])\n",
    "        \n",
    "        # If this is the first month, skip the change calculation\n",
    "        if months == 1:\n",
    "            continue\n",
    "        \n",
    "        # Calculate the change in profit/loss and add it to the list\n",
    "        profit_change = int(row[1]) - int(prev_profit)\n",
    "        profit_changes.append(profit_change)\n",
    "        \n",
    "        # Check if this change is the greatest increase or decrease\n",
    "        if profit_change > greatest_increase[1]:\n",
    "            greatest_increase[0] = row[0]\n",
    "            greatest_increase[1] = profit_change\n",
    "        elif profit_change < greatest_decrease[1]:\n",
    "            greatest_decrease[0] = row[0]\n",
    "            greatest_decrease[1] = profit_change\n",
    "        \n",
    "        # Set the previous profit/loss for the next iteration\n",
    "        prev_profit = int(row[1])\n",
    "\n",
    "# Calculate the average change in profit/loss\n",
    "average_change = sum(profit_changes) / len(profit_changes)\n",
    "\n",
    "# Print the results\n",
    "print(\"Total Months: \" + str(months))\n",
    "print(\"Net Profit: \" + \"$\" + str(net_profit))\n",
    "print(\"Average Change: \" + \"$\" + str(average_change))\n",
    "print(\"Greatest Increase: \" + greatest_increase[0] + \" ($\" +  str(greatest_increase[1]) + \")\")\n",
    "print(\"Greatest Decrease: \" + greatest_decrease[0] + \" ($\" +  str(greatest_decrease[1]) + \")\")"
   ]
  }
 ],
 "metadata": {
  "kernelspec": {
   "display_name": "Python 3 (ipykernel)",
   "language": "python",
   "name": "python3"
  },
  "language_info": {
   "codemirror_mode": {
    "name": "ipython",
    "version": 3
   },
   "file_extension": ".py",
   "mimetype": "text/x-python",
   "name": "python",
   "nbconvert_exporter": "python",
   "pygments_lexer": "ipython3",
   "version": "3.9.13"
  }
 },
 "nbformat": 4,
 "nbformat_minor": 5
}
