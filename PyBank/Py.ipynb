{
 "cells": [
  {
   "cell_type": "code",
   "execution_count": 8,
   "id": "d16e69bd",
   "metadata": {},
   "outputs": [
    {
     "ename": "SyntaxError",
     "evalue": "invalid syntax (1486267695.py, line 3)",
     "output_type": "error",
     "traceback": [
      "\u001b[1;36m  File \u001b[1;32m\"C:\\Users\\rjhab\\AppData\\Local\\Temp\\ipykernel_2756\\1486267695.py\"\u001b[1;36m, line \u001b[1;32m3\u001b[0m\n\u001b[1;33m    with open (\"Resources\")\u001b[0m\n\u001b[1;37m                           ^\u001b[0m\n\u001b[1;31mSyntaxError\u001b[0m\u001b[1;31m:\u001b[0m invalid syntax\n"
     ]
    }
   ],
   "source": [
    "\n"
   ]
  },
  {
   "cell_type": "code",
   "execution_count": 2,
   "id": "9063ca65",
   "metadata": {},
   "outputs": [],
   "source": [
    "\n"
   ]
  },
  {
   "cell_type": "code",
   "execution_count": null,
   "id": "813af2f3",
   "metadata": {},
   "outputs": [],
   "source": []
  },
  {
   "cell_type": "code",
   "execution_count": 3,
   "id": "19e98b0c",
   "metadata": {},
   "outputs": [
    {
     "ename": "NameError",
     "evalue": "name 'greatest' is not defined",
     "output_type": "error",
     "traceback": [
      "\u001b[1;31m---------------------------------------------------------------------------\u001b[0m",
      "\u001b[1;31mNameError\u001b[0m                                 Traceback (most recent call last)",
      "\u001b[1;32m~\\AppData\\Local\\Temp\\ipykernel_7952\\838688633.py\u001b[0m in \u001b[0;36m<module>\u001b[1;34m\u001b[0m\n\u001b[0;32m     10\u001b[0m \u001b[0mnet_change_list\u001b[0m \u001b[1;33m=\u001b[0m\u001b[1;33m[\u001b[0m\u001b[1;33m]\u001b[0m\u001b[1;33m\u001b[0m\u001b[1;33m\u001b[0m\u001b[0m\n\u001b[0;32m     11\u001b[0m \u001b[0mmonth_of_changes\u001b[0m\u001b[1;33m=\u001b[0m\u001b[1;33m[\u001b[0m\u001b[1;33m]\u001b[0m\u001b[1;33m\u001b[0m\u001b[1;33m\u001b[0m\u001b[0m\n\u001b[1;32m---> 12\u001b[1;33m \u001b[0mgreatest\u001b[0m\u001b[1;33m[\u001b[0m\u001b[1;34m\"\"\u001b[0m\u001b[1;33m,\u001b[0m\u001b[1;36m0\u001b[0m\u001b[1;33m]\u001b[0m\u001b[1;33m\u001b[0m\u001b[1;33m\u001b[0m\u001b[0m\n\u001b[0m\u001b[0;32m     13\u001b[0m \u001b[0mleast\u001b[0m\u001b[1;33m[\u001b[0m\u001b[1;34m\"\"\u001b[0m\u001b[1;33m,\u001b[0m\u001b[1;36m99999999999999\u001b[0m\u001b[1;33m]\u001b[0m\u001b[1;33m\u001b[0m\u001b[1;33m\u001b[0m\u001b[0m\n\u001b[0;32m     14\u001b[0m \u001b[1;32mwith\u001b[0m \u001b[0mopen\u001b[0m\u001b[1;33m(\u001b[0m\u001b[0mfile_to_load\u001b[0m\u001b[1;33m)\u001b[0m \u001b[1;32mas\u001b[0m \u001b[0mfiancial_data\u001b[0m\u001b[1;33m:\u001b[0m\u001b[1;33m\u001b[0m\u001b[1;33m\u001b[0m\u001b[0m\n",
      "\u001b[1;31mNameError\u001b[0m: name 'greatest' is not defined"
     ]
    }
   ],
   "source": [
    "\n",
    "\n"
   ]
  },
  {
   "cell_type": "code",
   "execution_count": 5,
   "id": "f88665d4",
   "metadata": {},
   "outputs": [
    {
     "name": "stdout",
     "output_type": "stream",
     "text": [
      "Financial Analysis\n",
      "----------------------------\n",
      "Total Months: 86\n",
      "Total: $22564198\n",
      "Average Change: $-8311.11\n",
      "Greatest Increase in Profits: Aug-16 ($1862002)\n",
      "Greatest Decrease in Profits: Feb-14 ($-1825558)\n",
      "Financial analysis has been exported to financial_analysis.txt.\n"
     ]
    }
   ],
   "source": [
    "import csv\n",
    "import os\n",
    "\n",
    "# Initialize variables\n",
    "months = 0\n",
    "net_profit = 0\n",
    "profit_changes = []\n",
    "greatest_increase = [\"\", 0]\n",
    "greatest_decrease = [\"\", 0]\n",
    "\n",
    "# Open the CSV file\n",
    "with open(\"budget_data.csv\") as csvfile:\n",
    "    csvreader = csv.reader(csvfile)\n",
    "    \n",
    "    # Skip the header row\n",
    "    next(csvreader)\n",
    "\n",
    "    # Iterate through the rows in the CSV\n",
    "    for row in csvreader:\n",
    "        # Increment the number of months\n",
    "        months += 1\n",
    "        \n",
    "        # Add the profit/loss to the net profit\n",
    "        net_profit += int(row[1])\n",
    "        \n",
    "        # If this is the first month, skip the change calculation\n",
    "        if months == 1:\n",
    "            prev_profit = int(row[1])\n",
    "            continue\n",
    "        \n",
    "        # Calculate the profit change from the previous month\n",
    "        profit_change = int(row[1]) - prev_profit\n",
    "        profit_changes.append(profit_change)\n",
    "        \n",
    "        # Update the previous profit for the next iteration\n",
    "        prev_profit = int(row[1])\n",
    "        \n",
    "        # Check if the current profit change is the greatest increase or decrease\n",
    "        if profit_change > greatest_increase[1]:\n",
    "            greatest_increase = [row[0], profit_change]\n",
    "        if profit_change < greatest_decrease[1]:\n",
    "            greatest_decrease = [row[0], profit_change]\n",
    "\n",
    "# Calculate the average change\n",
    "average_change = sum(profit_changes) / len(profit_changes)\n",
    "\n",
    "# Print the financial analysis\n",
    "print(\"Financial Analysis\")\n",
    "print(\"----------------------------\")\n",
    "print(f\"Total Months: {months}\")\n",
    "print(f\"Total: ${net_profit}\")\n",
    "print(f\"Average Change: ${average_change:.2f}\")\n",
    "print(f\"Greatest Increase in Profits: {greatest_increase[0]} (${greatest_increase[1]})\")\n",
    "print(f\"Greatest Decrease in Profits: {greatest_decrease[0]} (${greatest_decrease[1]})\")\n",
    "\n",
    "# Export the financial analysis to a text file\n",
    "output_path = \"financial_analysis.txt\"\n",
    "with open(output_path, \"w\") as file:\n",
    "    file.write(\"Financial Analysis\\n\")\n",
    "    file.write(\"----------------------------\\n\")\n",
    "    file.write(f\"Total Months: {months}\\n\")\n",
    "    file.write(f\"Total: ${net_profit}\\n\")\n",
    "    file.write(f\"Average Change: ${average_change:.2f}\\n\")\n",
    "    file.write(f\"Greatest Increase in Profits: {greatest_increase[0]} (${greatest_increase[1]})\\n\")\n",
    "    file.write(f\"Greatest Decrease in Profits: {greatest_decrease[0]} (${greatest_decrease[1]})\\n\")\n",
    "\n",
    "print(\"Financial analysis has been exported to financial_analysis.txt.\")"
   ]
  },
  {
   "cell_type": "code",
   "execution_count": null,
   "id": "24b17089",
   "metadata": {},
   "outputs": [],
   "source": []
  }
 ],
 "metadata": {
  "kernelspec": {
   "display_name": "Python 3 (ipykernel)",
   "language": "python",
   "name": "python3"
  },
  "language_info": {
   "codemirror_mode": {
    "name": "ipython",
    "version": 3
   },
   "file_extension": ".py",
   "mimetype": "text/x-python",
   "name": "python",
   "nbconvert_exporter": "python",
   "pygments_lexer": "ipython3",
   "version": "3.9.13"
  }
 },
 "nbformat": 4,
 "nbformat_minor": 5
}
