{
 "cells": [
  {
   "cell_type": "code",
   "execution_count": 8,
   "id": "d16e69bd",
   "metadata": {},
   "outputs": [
    {
     "ename": "SyntaxError",
     "evalue": "invalid syntax (1486267695.py, line 3)",
     "output_type": "error",
     "traceback": [
      "\u001b[1;36m  File \u001b[1;32m\"C:\\Users\\rjhab\\AppData\\Local\\Temp\\ipykernel_2756\\1486267695.py\"\u001b[1;36m, line \u001b[1;32m3\u001b[0m\n\u001b[1;33m    with open (\"Resources\")\u001b[0m\n\u001b[1;37m                           ^\u001b[0m\n\u001b[1;31mSyntaxError\u001b[0m\u001b[1;31m:\u001b[0m invalid syntax\n"
     ]
    }
   ],
   "source": [
    "import csv\n",
    "\n",
    "with open (\"Resources\")\n"
   ]
  },
  {
   "cell_type": "code",
   "execution_count": 7,
   "id": "9063ca65",
   "metadata": {},
   "outputs": [
    {
     "ename": "FileNotFoundError",
     "evalue": "[Errno 2] No such file or directory: 'budget_data.csv'",
     "output_type": "error",
     "traceback": [
      "\u001b[1;31m---------------------------------------------------------------------------\u001b[0m",
      "\u001b[1;31mFileNotFoundError\u001b[0m                         Traceback (most recent call last)",
      "\u001b[1;32m~\\AppData\\Local\\Temp\\ipykernel_2756\\2903048894.py\u001b[0m in \u001b[0;36m<module>\u001b[1;34m\u001b[0m\n\u001b[0;32m      9\u001b[0m \u001b[1;33m\u001b[0m\u001b[0m\n\u001b[0;32m     10\u001b[0m \u001b[1;31m# Open the CSV file\u001b[0m\u001b[1;33m\u001b[0m\u001b[1;33m\u001b[0m\u001b[0m\n\u001b[1;32m---> 11\u001b[1;33m \u001b[1;32mwith\u001b[0m \u001b[0mopen\u001b[0m\u001b[1;33m(\u001b[0m\u001b[1;34m\"budget_data.csv\"\u001b[0m\u001b[1;33m)\u001b[0m \u001b[1;32mas\u001b[0m \u001b[0mcsvfile\u001b[0m\u001b[1;33m:\u001b[0m\u001b[1;33m\u001b[0m\u001b[1;33m\u001b[0m\u001b[0m\n\u001b[0m\u001b[0;32m     12\u001b[0m     \u001b[0mcsvreader\u001b[0m \u001b[1;33m=\u001b[0m \u001b[0mcsv\u001b[0m\u001b[1;33m.\u001b[0m\u001b[0mreader\u001b[0m\u001b[1;33m(\u001b[0m\u001b[0mcsvfile\u001b[0m\u001b[1;33m)\u001b[0m\u001b[1;33m\u001b[0m\u001b[1;33m\u001b[0m\u001b[0m\n\u001b[0;32m     13\u001b[0m \u001b[1;33m\u001b[0m\u001b[0m\n",
      "\u001b[1;31mFileNotFoundError\u001b[0m: [Errno 2] No such file or directory: 'budget_data.csv'"
     ]
    }
   ],
   "source": [
    "import csv\n",
    "import os\n",
    "\n",
    "# Initialize variables\n",
    "months = 0\n",
    "net_profit = 0\n",
    "profit_changes = []\n",
    "greatest_increase = [\"\", 0]\n",
    "greatest_decrease = [\"\", 0]\n",
    "\n",
    "# Open the CSV file\n",
    "with open(\"budget_data.csv\") as csvfile:\n",
    "    csvreader = csv.reader(csvfile)\n",
    "    \n",
    "    # Skip the header row\n",
    "    next(csvreader)\n",
    "\n",
    "    # Iterate through the rows in the CSV\n",
    "    for row in csvreader:\n",
    "        # Increment the number of months\n",
    "        months += 1\n",
    "        \n",
    "        # Add the profit/loss to the net profit\n",
    "        net_profit += int(row[1])\n",
    "        \n",
    "        # If this is the first month, skip the change calculation\n",
    "        if months == 1:\n",
    "            continue\n",
    "        \n",
    "        # Calculate the change in profit/loss and add it to the list\n",
    "        profit_change = int(row[1]) - int(prev_profit)\n",
    "        profit_changes.append(profit_change)\n",
    "        \n",
    "        # Check if this change is the greatest increase or decrease\n",
    "        if profit_change > greatest_increase[1]:\n",
    "            greatest_increase[0] = row[0]\n",
    "            greatest_increase[1] = profit_change\n",
    "        elif profit_change < greatest_decrease[1]:\n",
    "            greatest_decrease[0] = row[0]\n",
    "            greatest_decrease[1] = profit_change\n",
    "        \n",
    "        # Set the previous profit/loss for the next iteration\n",
    "        prev_profit = int(row[1])\n",
    "\n",
    "# Calculate the average change in profit/loss\n",
    "average_change = sum(profit_changes) / len(profit_changes)\n",
    "\n",
    "# Print the results\n",
    "print(\"Total Months: \" + str(months))\n",
    "print(\"Net Profit: \" + \"$\" + str(net_profit))\n",
    "print(\"Average Change: \" + \"$\" + str(average_change))\n",
    "print(\"Greatest Increase: \" + greatest_increase[0] + \" ($\" +  str(greatest_increase[1]) + \")\")\n",
    "print(\"Greatest Decrease: \" + greatest_decrease[0] + \" ($\" +  str(greatest_decrease[1]) + \")\")"
   ]
  },
  {
   "cell_type": "code",
   "execution_count": 10,
   "id": "56a74be8",
   "metadata": {},
   "outputs": [
    {
     "ename": "FileNotFoundError",
     "evalue": "[Errno 2] No such file or directory: 'budget_data.csv'",
     "output_type": "error",
     "traceback": [
      "\u001b[1;31m---------------------------------------------------------------------------\u001b[0m",
      "\u001b[1;31mFileNotFoundError\u001b[0m                         Traceback (most recent call last)",
      "\u001b[1;32m~\\AppData\\Local\\Temp\\ipykernel_2756\\2401359155.py\u001b[0m in \u001b[0;36m<module>\u001b[1;34m\u001b[0m\n\u001b[0;32m     10\u001b[0m \u001b[0mgreatest_decrease\u001b[0m \u001b[1;33m=\u001b[0m \u001b[1;33m[\u001b[0m\u001b[1;34m\"\"\u001b[0m\u001b[1;33m,\u001b[0m \u001b[1;36m0\u001b[0m\u001b[1;33m]\u001b[0m\u001b[1;33m\u001b[0m\u001b[1;33m\u001b[0m\u001b[0m\n\u001b[0;32m     11\u001b[0m \u001b[1;33m\u001b[0m\u001b[0m\n\u001b[1;32m---> 12\u001b[1;33m \u001b[1;32mwith\u001b[0m \u001b[0mopen\u001b[0m\u001b[1;33m(\u001b[0m\u001b[1;34m\"budget_data.csv\"\u001b[0m\u001b[1;33m)\u001b[0m \u001b[1;32mas\u001b[0m \u001b[0mcsvfile\u001b[0m\u001b[1;33m:\u001b[0m\u001b[1;33m\u001b[0m\u001b[1;33m\u001b[0m\u001b[0m\n\u001b[0m\u001b[0;32m     13\u001b[0m     \u001b[0mcsvreader\u001b[0m \u001b[1;33m=\u001b[0m \u001b[0mcsv\u001b[0m\u001b[1;33m.\u001b[0m\u001b[0mreader\u001b[0m\u001b[1;33m(\u001b[0m\u001b[0mcsvfile\u001b[0m\u001b[1;33m)\u001b[0m\u001b[1;33m\u001b[0m\u001b[1;33m\u001b[0m\u001b[0m\n\u001b[0;32m     14\u001b[0m \u001b[1;33m\u001b[0m\u001b[0m\n",
      "\u001b[1;31mFileNotFoundError\u001b[0m: [Errno 2] No such file or directory: 'budget_data.csv'"
     ]
    }
   ],
   "source": []
  },
  {
   "cell_type": "code",
   "execution_count": null,
   "id": "70e19e21",
   "metadata": {},
   "outputs": [],
   "source": [
    "import csv\n",
    "import os\n",
    "\n",
    "file_to = os.path.join(\".\", \"Resources\", \"budget_data.csv\")\n",
    "\n",
    "file_to_output = os.path.join(\".\", \"budget_anlysis.txt\")\n",
    "\n",
    "total_months = 0\n",
    "total_net = 0\n",
    "net_change_list =[]\n",
    "month_of _changes=[]\n",
    "greatest[\"\",0]\n",
    "least[\"\",99999999999999]\n",
    "with open(file_to_load) as fiancial_data:\n",
    "    \n",
    "    reader = csv.reader(fiancial_data)\n",
    "    \n",
    "    #print (reader)\n",
    "    \n",
    "    header = next(reader)\n",
    "    \n",
    "    #print(f\"header: {header}\")\n",
    "    first_row = next(reader)\n",
    "    total_net += int(first_row[1])\n",
    "    previous_net = int(first_row[1])\n",
    "    total_months += 1\n",
    "    \n",
    "    \n",
    "    \n",
    "    for row in reader:\n",
    "          \n",
    "        total_months = total_months + 1\n",
    "        total_net += int(row[1])\n",
    "        net_change = int(row[1]) - previouse_net\n",
    "        previouse_net = int(row[1])\n",
    "        net_change_list.append(net_change)\n",
    "        if(net_change > greatest[1]):\n",
    "            greast[0] = row[0]\n",
    "            greast[1] = net_change\n",
    "        if(net_change < least [1]):\n",
    "            least[0] = row [0]\n",
    "            least[1] = net_change\n",
    "\n",
    "net_monthly_average = sum(net_change_list)/len(net_change_list)\n",
    "        \n",
    "        \n",
    "output=(\n",
    "    f\"Total Months: {total_months}\\n\"\n",
    "    f\"Total: ${total_net}\\n\"\n",
    "    f\"Avarage Change ${net_monthly_average}\\n\n",
    "    f\"Greatest Increase in Profits: {greatest[0]} (${greatest[1]})\"\n",
    "    f\"Greatest Decrease in profits: {least[0]} (${least[1]})\"\"\n",
    ")\n",
    "          \n",
    "print(output)\n",
    "\n",
    "with open(file_to_output, \"w\") as text_file:\n",
    "    txt_file.write(output)\n",
    "\n"
   ]
  },
  {
   "cell_type": "code",
   "execution_count": null,
   "id": "707cffcb",
   "metadata": {},
   "outputs": [],
   "source": []
  }
 ],
 "metadata": {
  "kernelspec": {
   "display_name": "Python 3 (ipykernel)",
   "language": "python",
   "name": "python3"
  },
  "language_info": {
   "codemirror_mode": {
    "name": "ipython",
    "version": 3
   },
   "file_extension": ".py",
   "mimetype": "text/x-python",
   "name": "python",
   "nbconvert_exporter": "python",
   "pygments_lexer": "ipython3",
   "version": "3.9.13"
  }
 },
 "nbformat": 4,
 "nbformat_minor": 5
}
