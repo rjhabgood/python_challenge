{
 "cells": [
  {
   "cell_type": "code",
   "execution_count": 1,
   "id": "060b7606",
   "metadata": {},
   "outputs": [
    {
     "ename": "FileNotFoundError",
     "evalue": "[Errno 2] No such file or directory: '.\\\\Resources\\\\election_data.csv'",
     "output_type": "error",
     "traceback": [
      "\u001b[1;31m---------------------------------------------------------------------------\u001b[0m",
      "\u001b[1;31mFileNotFoundError\u001b[0m                         Traceback (most recent call last)",
      "\u001b[1;32m~\\AppData\\Local\\Temp\\ipykernel_12708\\3366466733.py\u001b[0m in \u001b[0;36m<module>\u001b[1;34m\u001b[0m\n\u001b[0;32m     13\u001b[0m \u001b[0mwinning_count\u001b[0m \u001b[1;33m=\u001b[0m \u001b[1;36m0\u001b[0m\u001b[1;33m\u001b[0m\u001b[1;33m\u001b[0m\u001b[0m\n\u001b[0;32m     14\u001b[0m \u001b[1;33m\u001b[0m\u001b[0m\n\u001b[1;32m---> 15\u001b[1;33m \u001b[1;32mwith\u001b[0m \u001b[0mopen\u001b[0m\u001b[1;33m(\u001b[0m\u001b[0mfile_to_load\u001b[0m\u001b[1;33m)\u001b[0m \u001b[1;32mas\u001b[0m \u001b[0melection_data\u001b[0m\u001b[1;33m:\u001b[0m\u001b[1;33m\u001b[0m\u001b[1;33m\u001b[0m\u001b[0m\n\u001b[0m\u001b[0;32m     16\u001b[0m     \u001b[0mreader\u001b[0m \u001b[1;33m=\u001b[0m \u001b[0mcsv\u001b[0m\u001b[1;33m.\u001b[0m\u001b[0mreader\u001b[0m\u001b[1;33m(\u001b[0m\u001b[0melection_data\u001b[0m\u001b[1;33m)\u001b[0m\u001b[1;33m\u001b[0m\u001b[1;33m\u001b[0m\u001b[0m\n\u001b[0;32m     17\u001b[0m \u001b[1;33m\u001b[0m\u001b[0m\n",
      "\u001b[1;31mFileNotFoundError\u001b[0m: [Errno 2] No such file or directory: '.\\\\Resources\\\\election_data.csv'"
     ]
    }
   ],
   "source": []
  },
  {
   "cell_type": "code",
   "execution_count": 5,
   "id": "018b27e3",
   "metadata": {},
   "outputs": [
    {
     "name": "stdout",
     "output_type": "stream",
     "text": [
      "Election Results\n",
      "Total Votes: 369711\n",
      "Charles Casper Stockham: 23.049% (85213)\n",
      "Diana DeGette: 73.812% (272892)\n",
      "Raymon Anthony Doane: 3.139% (11606)\n",
      "Winner: Diana DeGette\n",
      "\n"
     ]
    }
   ],
   "source": [
    "import csv\n",
    "import os\n",
    "\n",
    "\n",
    "total_votes = 0\n",
    "candidate_votes = {}\n",
    "candidate_options = []\n",
    "winning_candidate = \"\"\n",
    "winning_count = 0\n",
    "\n",
    "with open(\"election_data.csv\") as csvfile:\n",
    "    csvreader = csv.reader(csvfile)\n",
    "    \n",
    "    header = next(csvreader)\n",
    "    \n",
    "    for row in csvreader:\n",
    "        total_votes += 1\n",
    "        \n",
    "        candidate_name = row[2]\n",
    "        if candidate_name not in candidate_options:\n",
    "            candidate_options.append(candidate_name)\n",
    "            candidate_votes[candidate_name] = 0\n",
    "        candidate_votes[candidate_name] += 1\n",
    "            \n",
    "        \n",
    "with open(file_to_output, \"w\") as txt_file:        \n",
    "    election_results = (\n",
    "        f\"Election Results\\n\"\n",
    "        f\"Total Votes: {total_votes}\\n\"    \n",
    "    )    \n",
    "    print(election_results, end=\"\")    \n",
    "    txt_file.write(election_results)\n",
    "        \n",
    "    for candidate in candidate_votes:\n",
    "        votes = candidate_votes[candidate]\n",
    "        vote_percentage = float(votes) / float(total_votes) * 100\n",
    "        \n",
    "        if votes > winning_count:\n",
    "            winning_count = votes\n",
    "            winning_candidate = candidate\n",
    "        \n",
    "        voter_output = f\"{candidate}: {vote_percentage:.3f}% ({votes})\\n\"\n",
    "        print(voter_output, end=\"\")\n",
    "        txt_file.write(voter_output)\n",
    "    \n",
    "    winning_candidate_summary = (\n",
    "        f\"Winner: {winning_candidate}\\n\"\n",
    "    )    \n",
    "    print(winning_candidate_summary)\n",
    "    txt_file.write(winning_candidate_summary)"
   ]
  },
  {
   "cell_type": "code",
   "execution_count": null,
   "id": "dcff95b8",
   "metadata": {},
   "outputs": [],
   "source": []
  }
 ],
 "metadata": {
  "kernelspec": {
   "display_name": "Python 3 (ipykernel)",
   "language": "python",
   "name": "python3"
  },
  "language_info": {
   "codemirror_mode": {
    "name": "ipython",
    "version": 3
   },
   "file_extension": ".py",
   "mimetype": "text/x-python",
   "name": "python",
   "nbconvert_exporter": "python",
   "pygments_lexer": "ipython3",
   "version": "3.9.13"
  }
 },
 "nbformat": 4,
 "nbformat_minor": 5
}
