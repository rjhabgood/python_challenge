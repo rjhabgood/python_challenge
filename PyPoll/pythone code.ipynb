{
 "cells": [
  {
   "cell_type": "code",
   "execution_count": 19,
   "id": "060b7606",
   "metadata": {},
   "outputs": [
    {
     "ename": "TypeError",
     "evalue": "'list' object is not callable",
     "output_type": "error",
     "traceback": [
      "\u001b[1;31m---------------------------------------------------------------------------\u001b[0m",
      "\u001b[1;31mTypeError\u001b[0m                                 Traceback (most recent call last)",
      "\u001b[1;32m~\\AppData\\Local\\Temp\\ipykernel_16796\\204926921.py\u001b[0m in \u001b[0;36m<module>\u001b[1;34m\u001b[0m\n\u001b[0;32m     35\u001b[0m \u001b[1;33m\u001b[0m\u001b[0m\n\u001b[0;32m     36\u001b[0m )    \n\u001b[1;32m---> 37\u001b[1;33m     \u001b[0mprint\u001b[0m\u001b[1;33m(\u001b[0m\u001b[0melection_results\u001b[0m\u001b[1;33m,\u001b[0m \u001b[0mend\u001b[0m\u001b[1;33m=\u001b[0m\u001b[1;34m\"\"\u001b[0m\u001b[1;33m)\u001b[0m\u001b[1;33m\u001b[0m\u001b[1;33m\u001b[0m\u001b[0m\n\u001b[0m\u001b[0;32m     38\u001b[0m \u001b[1;33m\u001b[0m\u001b[0m\n\u001b[0;32m     39\u001b[0m     \u001b[0mtxt_file\u001b[0m\u001b[1;33m.\u001b[0m\u001b[0mwrite\u001b[0m\u001b[1;33m(\u001b[0m\u001b[0melection_results\u001b[0m\u001b[1;33m)\u001b[0m\u001b[1;33m\u001b[0m\u001b[1;33m\u001b[0m\u001b[0m\n",
      "\u001b[1;31mTypeError\u001b[0m: 'list' object is not callable"
     ]
    }
   ],
   "source": [
    "import csv\n",
    "import os\n",
    "\n",
    "file_to_load = os.path.join(\".\", \"Resources\", \"election_data.csv\")\n",
    "\n",
    "file_to_output = os.path.join(\".\", \"election_analysis.txt\")\n",
    "\n",
    "total_votes = 0\n",
    "\n",
    "candidate_votes = {}\n",
    "candidate_options = []\n",
    "winning_candidate = \"\"\n",
    "winning_count = 0\n",
    "\n",
    "with open(file_to_load) as election_data:\n",
    "    reader = csv.reader(election_data)\n",
    "    \n",
    "    header = next(reader)\n",
    "    print = header\n",
    "    \n",
    "    for row in reader:\n",
    "        total_votes = total_votes + 1\n",
    "        \n",
    "        candidate_name = row[2]\n",
    "        if candidate_name not in candidate_options:\n",
    "            candidate_options.append(candidate_name)\n",
    "            candidate_votes[candidate_name] = 0\n",
    "        candidate_votes[candidate_name] += 1\n",
    "            \n",
    "        \n",
    "with open(file_to_output, \"w\") as txt_file:        \n",
    "    election_results = (\n",
    "        f\"Election Results\\n\"\n",
    "        f\"Total Votes {total_votes}\\n\"\n",
    "    \n",
    ")    \n",
    "    print(election_results, end=\"\")    \n",
    "    \n",
    "    txt_file.write(election_results)\n",
    "        \n",
    "    for candidate in candidate_votes:\n",
    "        \n",
    "        votes = candidate_votes[candidate]\n",
    "        vote_percentage = float(votes) / float(total_votes) * 100\n",
    "        \n",
    "        if(votes > winning_count):\n",
    "            winning_count = votes\n",
    "            winning_candidate = candidate\n",
    "         \n",
    "        \n",
    "        voter_output = f\"{candidate}: {vote_percentage:.3f}% ({votes})\\n\"\n",
    "    \n",
    "        print(voter_output, end=\"\")\n",
    "    \n",
    "        txt_file.write(voter_output)\n",
    "    \n",
    "    winning_candidate_summary = (\n",
    "            f\"Winner: {winning_candidate}\\n\"\n",
    "    )    \n",
    "    \n",
    "    print(winning_candidate_summary)\n"
   ]
  },
  {
   "cell_type": "code",
   "execution_count": null,
   "id": "018b27e3",
   "metadata": {},
   "outputs": [],
   "source": []
  }
 ],
 "metadata": {
  "kernelspec": {
   "display_name": "Python 3 (ipykernel)",
   "language": "python",
   "name": "python3"
  },
  "language_info": {
   "codemirror_mode": {
    "name": "ipython",
    "version": 3
   },
   "file_extension": ".py",
   "mimetype": "text/x-python",
   "name": "python",
   "nbconvert_exporter": "python",
   "pygments_lexer": "ipython3",
   "version": "3.9.13"
  }
 },
 "nbformat": 4,
 "nbformat_minor": 5
}
